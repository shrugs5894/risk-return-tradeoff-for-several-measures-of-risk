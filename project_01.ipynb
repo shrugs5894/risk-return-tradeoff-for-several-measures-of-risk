{
 "cells": [
  {
   "cell_type": "markdown",
   "id": "1fe6c242-d85f-4f96-a08b-a7f66bd65b81",
   "metadata": {
    "tags": []
   },
   "source": [
    "# Purpose"
   ]
  },
  {
   "cell_type": "markdown",
   "id": "9105ba4b-9d88-4087-83cc-e379a946821b",
   "metadata": {},
   "source": [
    "I have two goals for this project:\n",
    "\n",
    "1. To help you master data manipulation and visualization\n",
    "1. To help you understand the risk-return tradeoff for several measures of risk"
   ]
  },
  {
   "cell_type": "markdown",
   "id": "f7066dd9-55d1-418d-8c6f-d91b678f1162",
   "metadata": {
    "tags": []
   },
   "source": [
    "# Tasks"
   ]
  },
  {
   "cell_type": "markdown",
   "id": "673843a7-2dc2-4238-bb06-c4873495bf20",
   "metadata": {},
   "source": [
    "## Packages and Settings"
   ]
  },
  {
   "cell_type": "code",
   "execution_count": 1,
   "id": "ff0b1fec-a9ea-4d61-86f8-73e26deac9ab",
   "metadata": {},
   "outputs": [],
   "source": [
    "import matplotlib.pyplot as plt\n",
    "import numpy as np\n",
    "import pandas as pd"
   ]
  },
  {
   "cell_type": "code",
   "execution_count": 2,
   "id": "86c13857-8579-4f50-b771-e4a8c5c27e25",
   "metadata": {},
   "outputs": [],
   "source": [
    "%config InlineBackend.figure_format = 'retina'\n",
    "%precision 4\n",
    "pd.options.display.float_format = '{:.4f}'.format"
   ]
  },
  {
   "cell_type": "markdown",
   "id": "f39e52d6-bd5c-494c-bca6-b559c72633e7",
   "metadata": {
    "tags": []
   },
   "source": [
    "## Data"
   ]
  },
  {
   "cell_type": "markdown",
   "id": "ed940e84-359d-43d2-be51-407cabe35f2b",
   "metadata": {},
   "source": [
    "I used the following code cell to download the data for this project.\n",
    "Leave this code cell commented out and use the CSV files I provided with this notebook."
   ]
  },
  {
   "cell_type": "code",
   "execution_count": 3,
   "id": "3008923a-a97f-4fb5-ae03-815c6df5ea94",
   "metadata": {
    "tags": []
   },
   "outputs": [],
   "source": [
    "# import yfinance as yf\n",
    "# import pandas_datareader as pdr\n",
    "# import requests_cache\n",
    "# session = requests_cache.CachedSession(expire_after=1)"
   ]
  },
  {
   "cell_type": "code",
   "execution_count": 4,
   "id": "8f5c25da-0961-4cde-8fe1-b99fb084b6e4",
   "metadata": {
    "tags": []
   },
   "outputs": [],
   "source": [
    "# wiki = pd.read_html('https://en.wikipedia.org/wiki/Russell_1000_Index')"
   ]
  },
  {
   "cell_type": "code",
   "execution_count": 5,
   "id": "21002e27-749b-4da2-93b0-c5fa13bb8217",
   "metadata": {
    "tags": []
   },
   "outputs": [],
   "source": [
    "# (\n",
    "#     yf.Tickers(\n",
    "#         tickers=wiki[2]['Ticker'].str.replace(pat='.', repl='-', regex=False).to_list(),\n",
    "#         session=session\n",
    "#     )\n",
    "#     .history(period='max', auto_adjust=False)\n",
    "#     .assign(Date = lambda x: x.index.tz_localize(None))\n",
    "#     .set_index('Date')\n",
    "#     .rename_axis(columns=['Variable', 'Ticker'])\n",
    "#     ['Adj Close']\n",
    "#     .pct_change()\n",
    "#     .loc['1962':'2022']\n",
    "#     .to_csv('returns.csv')\n",
    "# )"
   ]
  },
  {
   "cell_type": "code",
   "execution_count": 6,
   "id": "a8b85d18-bc07-4535-9b4d-0506a390adda",
   "metadata": {
    "tags": []
   },
   "outputs": [],
   "source": [
    "# (\n",
    "#     pdr.DataReader(\n",
    "#         name='F-F_Research_Data_Factors_daily',\n",
    "#         data_source='famafrench',\n",
    "#         start='1900',\n",
    "#         session=session\n",
    "#     )\n",
    "#     [0]\n",
    "#     .rename_axis(columns='Variable')\n",
    "#     .div(100)\n",
    "#     .loc['1962':'2022']\n",
    "#     .to_csv('ff.csv')\n",
    "# )"
   ]
  },
  {
   "cell_type": "markdown",
   "id": "2f9d28b3-3c6f-4868-b232-3dbc62244af7",
   "metadata": {},
   "source": [
    "Run the following code cell to read the data for this project.\n",
    "The `returns.csv` file contains daily returns for the Russell 1000 stocks from 1962 through 2022, and the `ff.csv` contains daily Fama and French factors from 1962 through 2022."
   ]
  },
  {
   "cell_type": "code",
   "execution_count": 7,
   "id": "b020eb60-095f-4b1e-bf8a-561cc6aa5c63",
   "metadata": {},
   "outputs": [],
   "source": [
    "returns = pd.read_csv('returns.csv', index_col='Date', parse_dates=True)\n",
    "ff = pd.read_csv('ff.csv', index_col='Date', parse_dates=True)"
   ]
  },
  {
   "cell_type": "markdown",
   "id": "d93ffe01-715a-427b-a8a5-c8067ed6918c",
   "metadata": {
    "tags": []
   },
   "source": [
    "## Single Stocks"
   ]
  },
  {
   "cell_type": "markdown",
   "id": "73d4ed4f-901a-468b-81e9-f82c0d71c5bc",
   "metadata": {},
   "source": [
    "For this section, use the single stock returns in `returns`.\n",
    "You may select years $t$ and $t+1$, but only use stocks with complete returns data for years $t$ and $t+1$."
   ]
  },
  {
   "cell_type": "markdown",
   "id": "9176dd50-274d-4246-9805-6fed66760034",
   "metadata": {
    "tags": []
   },
   "source": [
    "### Task 1: Do mean returns in year $t$ predict mean returns in year $t+1$?"
   ]
  },
  {
   "cell_type": "markdown",
   "id": "c26242c6-e202-49b6-81eb-765dcd1790ce",
   "metadata": {
    "tags": []
   },
   "source": [
    "### Task 2: Does volatility in year $t$ predict volatility in year $t+1$?"
   ]
  },
  {
   "cell_type": "markdown",
   "id": "6f3bdbf9-1369-457e-8e47-90334d5b527b",
   "metadata": {
    "tags": []
   },
   "source": [
    "### Task 3: Do Sharpe Ratios in year $t$ predict Sharpe Ratios in year $t+1$?"
   ]
  },
  {
   "cell_type": "markdown",
   "id": "1bc5b134-0182-455c-9dc4-9e856cf169cf",
   "metadata": {
    "tags": []
   },
   "source": [
    "### Task 4: Do CAPM betas in year $t$ predict CAPM betas in year $t+1$?"
   ]
  },
  {
   "cell_type": "markdown",
   "id": "a947ee2d-cd0a-4055-9e64-e5cf7eb14242",
   "metadata": {
    "tags": []
   },
   "source": [
    "### Task 5: Does volatility in year $t$ predict *mean returns* in year $t+1$?"
   ]
  },
  {
   "cell_type": "markdown",
   "id": "3c716b00-dcce-411c-a2ac-0ad3a0a1698a",
   "metadata": {
    "tags": []
   },
   "source": [
    "### Task 6: Does CAPM beta in year $t$ predict *mean returns* in year $t+1$?"
   ]
  },
  {
   "cell_type": "markdown",
   "id": "439cc3c0-8a61-41ae-89f0-aef3c02f96fc",
   "metadata": {
    "tags": []
   },
   "source": [
    "## Portfolios I"
   ]
  },
  {
   "cell_type": "markdown",
   "id": "912322c0-46b4-4064-b6e9-47f1d54e5652",
   "metadata": {},
   "source": [
    "For this section, create 100 random portfolios of 50 stocks each from the daily returns in `returns`.\n",
    "Equally weight these portfolios and rebalance them daily.\n",
    "Use the same stocks and years $t$ and $t+1$ as the previous section."
   ]
  },
  {
   "cell_type": "markdown",
   "id": "4e6c7897-4651-4a9a-ad66-d1b100423fd0",
   "metadata": {
    "tags": []
   },
   "source": [
    "### Task 7: Does volatility in year $t$ predict *mean returns* in year $t+1$?"
   ]
  },
  {
   "cell_type": "markdown",
   "id": "026ac65b-4418-4f04-a21b-ef1028161ee9",
   "metadata": {
    "tags": []
   },
   "source": [
    "### Task 8: Does CAPM beta in year $t$ predict *mean returns* in year $t+1$?"
   ]
  },
  {
   "cell_type": "markdown",
   "id": "f5c8eddf-b652-4bad-a06e-a6c51899770b",
   "metadata": {
    "tags": []
   },
   "source": [
    "## Portfolios II"
   ]
  },
  {
   "cell_type": "markdown",
   "id": "0bfbed1e-4f80-4ccc-bf0f-5acd63fe17ec",
   "metadata": {},
   "source": [
    "Calculate monthly volatility and total return for *every stock* and *every month* in `returns`.\n",
    "Drop stock-months with fewer than 15 returns.\n",
    "Each month, assign these stocks to one of five portfolios based on their volatility during the previous month.\n",
    "Equally weight these portfolios and rebalance them monthly."
   ]
  },
  {
   "cell_type": "markdown",
   "id": "286789a7-8877-4a2d-be40-716380ce80b7",
   "metadata": {
    "tags": []
   },
   "source": [
    "### Task 9: Do high volatility portfolios have high mean returns and Sharpe Ratios?"
   ]
  },
  {
   "cell_type": "markdown",
   "id": "c75a0b4d-f7f9-4ec4-b9a7-4262a5da8d89",
   "metadata": {},
   "source": [
    "## Discussion"
   ]
  },
  {
   "cell_type": "markdown",
   "id": "d07c0728-b9f8-4ec4-aa6b-f0af951882bf",
   "metadata": {
    "tags": []
   },
   "source": [
    "### Task 10: Discuss and explain any limitations of your analysis above"
   ]
  },
  {
   "cell_type": "markdown",
   "id": "a6390cc3-4903-494a-850f-b7e0b8bdb411",
   "metadata": {
    "tags": []
   },
   "source": [
    "# Criteria"
   ]
  },
  {
   "cell_type": "markdown",
   "id": "17fb4ca3-5ba1-4b3a-bca2-c8333e1005a3",
   "metadata": {},
   "source": [
    "1. All tasks are worth ten points\n",
    "1. Discuss and explain your findings for all ten tasks\n",
    "1. Here are a few more tips\n",
    "    1. ***Your goal is to convince me of your calculations and conclusions***\n",
    "    1. I typically find figures most convincing\n",
    "    1. If you use correlations, consider how a handful of outliers may affect your findings\n",
    "    1. Remove unnecessary code, outputs, and print statements\n",
    "    1. Write functions for calculations that you expect to use more than once\n",
    "    1. ***I will not penalize code style, but I will penalize submissions that are difficult to follow or do not follow these instructions***\n",
    "1. How to submit your project\n",
    "    1. Restart your kernel, run all cells, and save your notebook\n",
    "    1. Export your notebook to PDF (`File > Save And Export Notebook As ... > PDF` in JupyterLab)\n",
    "        1. If this export does not work, you can either (1) Install MikTeX on your laptop with the default settings or (2) use DataCamp Workspace to export your notebook to PDF\n",
    "        1. You do not need to re-run your notebook to export it because notebooks store output cells\n",
    "    1. Upload your notebook and PDF to Canvas\n",
    "    1. Upload your PDF only to Gradescope and tag your teammates\n",
    "    1. Gradescope helps me give better feedback more quickly, but I do not consider it reliable for sharing and storing your submission files"
   ]
  }
 ],
 "metadata": {
  "kernelspec": {
   "display_name": "Python 3 (ipykernel)",
   "language": "python",
   "name": "python3"
  },
  "language_info": {
   "codemirror_mode": {
    "name": "ipython",
    "version": 3
   },
   "file_extension": ".py",
   "mimetype": "text/x-python",
   "name": "python",
   "nbconvert_exporter": "python",
   "pygments_lexer": "ipython3",
   "version": "3.9.13"
  },
  "title": "Project 1",
  "toc-autonumbering": false
 },
 "nbformat": 4,
 "nbformat_minor": 5
}
